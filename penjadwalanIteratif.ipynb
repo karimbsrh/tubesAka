{
 "cells": [
  {
   "cell_type": "code",
   "execution_count": null,
   "metadata": {
    "vscode": {
     "languageId": "plaintext"
    }
   },
   "outputs": [],
   "source": [
    "def jadwalkan_mahasiswa_iteratif(daftar_mahasiswa):\n",
    "    for id_mahasiswa, mata_kuliah_list in daftar_mahasiswa:\n",
    "        for mata_kuliah in mata_kuliah_list:\n",
    "            kode_mk = get_kode_mata_kuliah(mata_kuliah)\n",
    "            for sesi in sesi_praktikum:\n",
    "                if (get_kode_mata_kuliah(sesi.mata_kuliah) == kode_mk and\n",
    "                        sesi.jumlah_mahasiswa < sesi.kapasitas):\n",
    "                    sesi.mahasiswa.append(id_mahasiswa)\n",
    "                    sesi.jumlah_mahasiswa += 1\n",
    "                    break"
   ]
  }
 ],
 "metadata": {
  "language_info": {
   "name": "python"
  }
 },
 "nbformat": 4,
 "nbformat_minor": 2
}
